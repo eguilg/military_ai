{
 "cells": [
  {
   "cell_type": "code",
   "execution_count": 1,
   "metadata": {},
   "outputs": [],
   "source": [
    "import json\n",
    "#  load the training data\n",
    "with open('./data/train/question.json', mode='r', encoding='utf-8') as fp:\n",
    "    all_json: dict = json.load(fp)"
   ]
  },
  {
   "cell_type": "code",
   "execution_count": 26,
   "metadata": {},
   "outputs": [
    {
     "data": {
      "text/plain": [
       "{'article_id': '24128',\n",
       " 'article_type': '新闻',\n",
       " 'article_title': '飞来的意外！美军机舷窗砸中冲绳小学操场',\n",
       " 'article_content': '美国驻日本冲绳部队一架大型运输直升机的一个舷窗１３日上午坠落在当地一所小学的操场，导致一名学生受伤。这是本月发生在冲绳县的第二起美国军机部件高空坠落事件。【飞来的意外】《冲绳时报》报道，当地时间１３日上午１０时１５分，一个一米见方、像窗户一样的物体从高空落下，砸中宜野湾市普天间第二小学的操场。这家本地媒体登出的照片显示，坠物疑似直升机舷窗，带有金属框。宜野湾警察署说，坠物重达７.７公斤，窗框为金属制，透明部分由树脂制成。日本防卫省说，驻日美军１０时４０分向日方通报，美军一架ＣＨ―５３Ｅ型大型运输直升机在宜野湾附近飞行时，可能有物品坠落。警方随后封锁校园，回收坠物。１１时左右，隶属日本防卫省的冲绳防卫局派人到校参与调查。１１时９分，警方解除封锁。【增加的担忧】事故发生时，学校操场上大约４０名四年级学生正在上体育课，其中一名男生被溅起的小石子砸中左手，轻微受伤。按照冲绳县警方的说法，那个舷窗坠落的位置距离学生上课地点仅１０米左右。普天间第二小学现有在校生大约７００人，学校位于美军普天间基地北侧，中间仅有一道围栏相隔。事故引发校方和家长严重担忧。当地居民岛袋仁志的两个孩子都就读于这所小学。他告诉《冲绳时报》，自己听说发生坠物事故后赶忙跑到学校，却因封锁进不去“感到十分担忧”。另一名学生家长接受日本广播协会（ＮＨＫ）采访时说：“我听说有东西掉到学校，就给学校打电话，但一直打不通，所以直接赶过来。上周托儿所刚出现过类似的事情，怎么又发生了呢？”冲绳县知事翁长雄志临近中午时抵达事故现场。他说，虽然坠物已被回收，但“窗框的形状还清楚地留在操场上……孩子们的生命、财产受到了威胁。简直荒唐！”日本内阁官房长官菅义伟说：“此类情况不仅给校方、也给冲绳县民带来不安，绝不应发生。政府将继续收集信息，从美方获取详细信息后，将通知冲绳县。”【停不了的坠物】美军驻冲绳海军陆战队当天发表声明致歉：“美军十分重视此事，正展开调查。为保护现场，请当地人员不要进入现场。为因此给周边地区带来的不安道歉。”美军ＣＨ―５３Ｅ型运输直升机近来在冲绳频频出事。本月７日，一个属于驻日美军的高空坠物砸中普天间基地附近一家托儿所的屋顶，当时屋内有数名幼儿玩耍，所幸没有造成人员伤亡。事后，驻日美军承认坠物来自ＣＨ－５３Ｅ，但表示物品在飞行中坠落的可能性低。１０月１１日，一架ＣＨ―５３Ｅ在空中起火后紧急降落，虽然机组人员无恙，但事发地距离一片居民住宅区只有几百米，险些造成地面人员伤亡。２００４年，一架ＣＨ―５３Ｅ在冲绳国际大学校内坠毁起火，大学宿舍以及周围住宅因冲击受损。所幸当时正值假期，没有造成人员伤亡。ＣＨ―５３Ｅ型直升机全长约３０米，重１５吨，最多可一次运送５５人。据宜野湾市基地政策部统计，美军在普天间机场部署了１５架这一型号的直升机。日本军事记者世良光弘认为，ＣＨ―５３Ｅ机体老化是导致事故频发的原因。防卫副大臣山本智弘（音译）１３日与驻日美军司令杰里？马丁内斯在防卫省会谈，要求美方在确保安全前停飞ＣＨ―５３Ｅ。冲绳县政府当天下午向美军抗议，要求停飞所有军机。（刘秀玲）（新华社专特稿）',\n",
       " 'questions': [{'questions_id': '224bca5f-7e6b-4dd7-af01-d3bb24a92321',\n",
       "   'question': '美国驻日本冲绳部队一架大型运输直升机的一个舷窗什么时候坠落在当地一所小学的操场，',\n",
       "   'answer': ' １３日上午',\n",
       "   'question_type': '事实型问题'},\n",
       "  {'questions_id': 'da5bd19c-14da-448f-83bb-d4fdb4077f21',\n",
       "   'question': '飞来的意外！什么砸中冲绳小学操场',\n",
       "   'answer': ' 美军机舷窗',\n",
       "   'question_type': '事实型问题'},\n",
       "  {'questions_id': '835ea5c3-4486-4309-b5ca-dcc66f469021',\n",
       "   'question': '什么砸中冲绳小学操场',\n",
       "   'answer': '美军机舷窗',\n",
       "   'question_type': '事实型问题'},\n",
       "  {'questions_id': 'a714af8e-a1ef-42da-a6ff-078a3a5c8555',\n",
       "   'question': '飞来的意外！美军机舷窗砸中哪里',\n",
       "   'answer': ' 冲绳小学操场',\n",
       "   'question_type': '事实型问题'},\n",
       "  {'questions_id': 'be980a14-9daa-46d1-b534-9fd0f2ffe23e',\n",
       "   'question': '这家本地媒体登出的照片显示，坠物疑似直升机舷窗，带有金属框。宜野湾警察署说，坠物重达多少',\n",
       "   'answer': ' ７.７公斤',\n",
       "   'question_type': '数值型问题'}]}"
      ]
     },
     "execution_count": 26,
     "metadata": {},
     "output_type": "execute_result"
    }
   ],
   "source": [
    "all_json[5]"
   ]
  },
  {
   "cell_type": "code",
   "execution_count": 3,
   "metadata": {},
   "outputs": [
    {
     "name": "stderr",
     "output_type": "stream",
     "text": [
      "/home/zydq/environments/anaconda3/lib/python3.6/site-packages/ipykernel_launcher.py:9: FutureWarning: Sorting because non-concatenation axis is not aligned. A future version\n",
      "of pandas will change to not sort by default.\n",
      "\n",
      "To accept the future behavior, pass 'sort=True'.\n",
      "\n",
      "To retain the current behavior and silence the warning, pass sort=False\n",
      "\n",
      "  if __name__ == '__main__':\n"
     ]
    },
    {
     "data": {
      "text/html": [
       "<div>\n",
       "<style scoped>\n",
       "    .dataframe tbody tr th:only-of-type {\n",
       "        vertical-align: middle;\n",
       "    }\n",
       "\n",
       "    .dataframe tbody tr th {\n",
       "        vertical-align: top;\n",
       "    }\n",
       "\n",
       "    .dataframe thead th {\n",
       "        text-align: right;\n",
       "    }\n",
       "</style>\n",
       "<table border=\"1\" class=\"dataframe\">\n",
       "  <thead>\n",
       "    <tr style=\"text-align: right;\">\n",
       "      <th></th>\n",
       "      <th>answer</th>\n",
       "      <th>article_id</th>\n",
       "      <th>question</th>\n",
       "      <th>question_type</th>\n",
       "      <th>questions_id</th>\n",
       "    </tr>\n",
       "  </thead>\n",
       "  <tbody>\n",
       "    <tr>\n",
       "      <th>0</th>\n",
       "      <td>2</td>\n",
       "      <td>43014</td>\n",
       "      <td>雷电之神的特点主要有几个</td>\n",
       "      <td>数值型问题</td>\n",
       "      <td>a98df1fc-47ca-4873-8a44-2bdb1cb8be7f</td>\n",
       "    </tr>\n",
       "    <tr>\n",
       "      <th>1</th>\n",
       "      <td>14.6</td>\n",
       "      <td>43014</td>\n",
       "      <td>雷电之神耗资相当于多少亿元人民币</td>\n",
       "      <td>数值型问题</td>\n",
       "      <td>95bcaa43-e75c-4379-8854-69fd4dd887e9</td>\n",
       "    </tr>\n",
       "    <tr>\n",
       "      <th>2</th>\n",
       "      <td>陈虎：隐形无人机可破解攻击航母情报信息问题</td>\n",
       "      <td>43014</td>\n",
       "      <td>文章的内容是什么</td>\n",
       "      <td>篇章型问题</td>\n",
       "      <td>67f0d3ef-3c41-444c-a015-b0f86664c9b1</td>\n",
       "    </tr>\n",
       "    <tr>\n",
       "      <th>3</th>\n",
       "      <td>4年</td>\n",
       "      <td>43014</td>\n",
       "      <td>雷电之神耗时多久研制</td>\n",
       "      <td>事实型问题</td>\n",
       "      <td>e3b047e1-47a0-43c2-8e48-c561c5f248ab</td>\n",
       "    </tr>\n",
       "    <tr>\n",
       "      <th>4</th>\n",
       "      <td>第一，是高度的隐身第二， 雷电之神的个头比较大</td>\n",
       "      <td>43014</td>\n",
       "      <td>雷电之神的特点主要有哪几个</td>\n",
       "      <td>列表型问题</td>\n",
       "      <td>36c6e083-cffa-4dcc-a77f-b5f21bacad01</td>\n",
       "    </tr>\n",
       "  </tbody>\n",
       "</table>\n",
       "</div>"
      ],
      "text/plain": [
       "                     answer article_id          question question_type  \\\n",
       "0                         2      43014      雷电之神的特点主要有几个         数值型问题   \n",
       "1                      14.6      43014  雷电之神耗资相当于多少亿元人民币         数值型问题   \n",
       "2     陈虎：隐形无人机可破解攻击航母情报信息问题      43014          文章的内容是什么         篇章型问题   \n",
       "3                        4年      43014        雷电之神耗时多久研制         事实型问题   \n",
       "4  　第一，是高度的隐身第二， 雷电之神的个头比较大      43014     雷电之神的特点主要有哪几个         列表型问题   \n",
       "\n",
       "                           questions_id  \n",
       "0  a98df1fc-47ca-4873-8a44-2bdb1cb8be7f  \n",
       "1  95bcaa43-e75c-4379-8854-69fd4dd887e9  \n",
       "2  67f0d3ef-3c41-444c-a015-b0f86664c9b1  \n",
       "3  e3b047e1-47a0-43c2-8e48-c561c5f248ab  \n",
       "4  36c6e083-cffa-4dcc-a77f-b5f21bacad01  "
      ]
     },
     "execution_count": 3,
     "metadata": {},
     "output_type": "execute_result"
    }
   ],
   "source": [
    "import pandas as pd\n",
    "import numpy as np\n",
    "\n",
    "df_paragraph = pd.DataFrame(all_json)\n",
    "df_question = pd.DataFrame()\n",
    "\n",
    "for index, row in df_paragraph.iterrows():\n",
    "    df = pd.DataFrame(row['questions'])\n",
    "    df['article_id'] = row['article_id']\n",
    "    df_question = pd.concat([df_question, df], ignore_index=True)\n",
    "\n",
    "df_paragraph = df_paragraph.drop(['questions'], axis=1)\n",
    "df_question.head()"
   ]
  },
  {
   "cell_type": "code",
   "execution_count": 24,
   "metadata": {},
   "outputs": [
    {
     "data": {
      "text/plain": [
       "article_content    97997\n",
       "article_id         97997\n",
       "article_title      97997\n",
       "article_type       97997\n",
       "answer             97997\n",
       "question           97997\n",
       "question_type      97997\n",
       "questions_id       97997\n",
       "dtype: int64"
      ]
     },
     "execution_count": 24,
     "metadata": {},
     "output_type": "execute_result"
    }
   ],
   "source": [
    "#df_paragraph.head()\n",
    "df_paragraph['article_id'] = df_paragraph['article_id'].astype(int)\n",
    "df_question['article_id'] = df_question['article_id'].astype(int)\n",
    "df_pq_pairs = pd.merge(df_paragraph, df_question, how='inner', on=['article_id'])\n",
    "df_pq_pairs.count()"
   ]
  },
  {
   "cell_type": "code",
   "execution_count": 34,
   "metadata": {},
   "outputs": [],
   "source": [
    "df_paragraph.to_csv('./data/train/paragraphs.csv', \n",
    "                    columns=['article_id', 'article_type', 'article_title', 'article_content'], index=False, sep='\\t')\n",
    "df_question.to_csv('./data/train/questions.csv', \n",
    "                    columns=['questions_id', 'article_id', 'question_type', 'question', 'answer'], index=False, sep='\\t')"
   ]
  },
  {
   "cell_type": "code",
   "execution_count": 68,
   "metadata": {},
   "outputs": [
    {
     "data": {
      "text/plain": [
       "{'新闻': 0.6462, '防务快讯': 0.3538}"
      ]
     },
     "execution_count": 68,
     "metadata": {},
     "output_type": "execute_result"
    }
   ],
   "source": [
    "import matplotlib as mpl\n",
    "import matplotlib.pyplot as plt\n",
    "import seaborn as sns\n",
    "mpl.rcParams['font.sans-serif'] = ['simhei']\n",
    "mpl.rcParams['font.serif'] = ['simhei']\n",
    "sns.set_style(\"darkgrid\", {\"font.sans-serif\":['simhei','Droid Sans Fallback']})\n",
    "\n",
    "u, counts = np.unique(df_paragraph['article_type'], return_counts=True)\n",
    "dict(zip(u, counts/len(df_paragraph) *1.0))"
   ]
  },
  {
   "cell_type": "code",
   "execution_count": 67,
   "metadata": {
    "scrolled": true
   },
   "outputs": [
    {
     "data": {
      "text/plain": [
       "{'事实型问题': 0.4202883761747809,\n",
       " '列表型问题': 0.09933977570741961,\n",
       " '定义型问题': 0.054766982662734574,\n",
       " '数值型问题': 0.21940467565333632,\n",
       " '篇章型问题': 0.09417635233731644,\n",
       " '观点型问题': 0.11202383746441218}"
      ]
     },
     "execution_count": 67,
     "metadata": {},
     "output_type": "execute_result"
    }
   ],
   "source": [
    "u, counts = np.unique(df_question['question_type'], return_counts=True)\n",
    "dict(zip(u, counts/len(df_question) *1.0))"
   ]
  },
  {
   "cell_type": "code",
   "execution_count": 107,
   "metadata": {},
   "outputs": [],
   "source": [
    "df_number_q = df_question[df_question['question_type']=='数值型问题']"
   ]
  },
  {
   "cell_type": "code",
   "execution_count": 111,
   "metadata": {},
   "outputs": [],
   "source": [
    "num_set = set('0123456789０１２３４５６７８９零一二两三四五六七八九个十百千万亿')\n",
    "fake_num_mask = df_number_q['answer'].apply(lambda s: len(set(s).intersection(num_set))==0 or len(s)>20)\n",
    "fake_num = df_number_q[fake_num_mask]\n",
    "fake_num.to_csv('./data/fake_num_q.csv',\n",
    "                columns=['questions_id', 'article_id', 'question_type', 'question', 'answer'], index=False, sep='\\t')"
   ]
  },
  {
   "cell_type": "code",
   "execution_count": 115,
   "metadata": {},
   "outputs": [
    {
     "data": {
      "text/html": [
       "<div>\n",
       "<style scoped>\n",
       "    .dataframe tbody tr th:only-of-type {\n",
       "        vertical-align: middle;\n",
       "    }\n",
       "\n",
       "    .dataframe tbody tr th {\n",
       "        vertical-align: top;\n",
       "    }\n",
       "\n",
       "    .dataframe thead th {\n",
       "        text-align: right;\n",
       "    }\n",
       "</style>\n",
       "<table border=\"1\" class=\"dataframe\">\n",
       "  <thead>\n",
       "    <tr style=\"text-align: right;\">\n",
       "      <th></th>\n",
       "      <th>article_content</th>\n",
       "      <th>article_id</th>\n",
       "      <th>article_title</th>\n",
       "      <th>article_type</th>\n",
       "    </tr>\n",
       "  </thead>\n",
       "  <tbody>\n",
       "    <tr>\n",
       "      <th>4671</th>\n",
       "      <td>More than one in ten bankers and traders in th...</td>\n",
       "      <td>34955</td>\n",
       "      <td>European bankers to lose out as pay-outs slashed</td>\n",
       "      <td>新闻</td>\n",
       "    </tr>\n",
       "  </tbody>\n",
       "</table>\n",
       "</div>"
      ],
      "text/plain": [
       "                                        article_content article_id  \\\n",
       "4671  More than one in ten bankers and traders in th...      34955   \n",
       "\n",
       "                                         article_title article_type  \n",
       "4671  European bankers to lose out as pay-outs slashed           新闻  "
      ]
     },
     "execution_count": 115,
     "metadata": {},
     "output_type": "execute_result"
    }
   ],
   "source": []
  },
  {
   "cell_type": "code",
   "execution_count": null,
   "metadata": {},
   "outputs": [],
   "source": []
  }
 ],
 "metadata": {
  "kernelspec": {
   "display_name": "Python 3",
   "language": "python",
   "name": "python3"
  },
  "language_info": {
   "codemirror_mode": {
    "name": "ipython",
    "version": 3
   },
   "file_extension": ".py",
   "mimetype": "text/x-python",
   "name": "python",
   "nbconvert_exporter": "python",
   "pygments_lexer": "ipython3",
   "version": "3.6.5"
  }
 },
 "nbformat": 4,
 "nbformat_minor": 1
}
